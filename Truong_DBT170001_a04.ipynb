{
 "cells": [
  {
   "cell_type": "markdown",
   "id": "238dfa2f",
   "metadata": {},
   "source": [
    "# Assignment 4 "
   ]
  },
  {
   "cell_type": "markdown",
   "id": "ae117903",
   "metadata": {},
   "source": [
    "# Question 1"
   ]
  },
  {
   "cell_type": "code",
   "execution_count": 33,
   "id": "75c8bd68",
   "metadata": {},
   "outputs": [
    {
     "name": "stdout",
     "output_type": "stream",
     "text": [
      "True\n"
     ]
    }
   ],
   "source": [
    "class Triangle:\n",
    "    \n",
    "    def __init__(self, angle1, angle2, angle3):\n",
    "        self.angle1 = angle1\n",
    "        self.angle2 = angle2\n",
    "        self.angle3 = angle3\n",
    "\n",
    "    def equilateral(self):\n",
    "        angleSum = self.angle1 + self.angle2 + self.angle3\n",
    "        if angleSum == 180 and self.angle1 == self.angle2 == self.angle3 == 60:\n",
    "                return True\n",
    "        elif angleSum == 180:\n",
    "            return \"Not equilateral but angles total to 180.\"\n",
    "        else:\n",
    "            return False\n",
    "\n",
    "\n",
    "a = Triangle(60, 60, 60)\n",
    "print(a.equilateral()) "
   ]
  },
  {
   "cell_type": "markdown",
   "id": "21fe3817",
   "metadata": {},
   "source": [
    "# Question 2\n"
   ]
  },
  {
   "cell_type": "code",
   "execution_count": 34,
   "id": "1406cbcc",
   "metadata": {},
   "outputs": [],
   "source": [
    "class Soccer:\n",
    "    def __init__(self, name):\n",
    "        self.name = name\n",
    "        self.wins = 0\n",
    "\n",
    "    def win(self):\n",
    "        self.wins += 1\n",
    "\n",
    "class Points(Soccer):\n",
    "    def leaguePoints(self):\n",
    "        return self.wins * 3\n",
    "\n",
    "# team = Points(\"Team 1\")\n",
    "# team.win() \n",
    "# print(team.leaguePoints())"
   ]
  },
  {
   "cell_type": "markdown",
   "id": "f9eb7d99",
   "metadata": {},
   "source": [
    "# Question 3"
   ]
  },
  {
   "cell_type": "code",
   "execution_count": 35,
   "id": "869e2fce",
   "metadata": {},
   "outputs": [],
   "source": [
    "class Soccer:\n",
    "    def __init__(self, name):\n",
    "        self.name = name\n",
    "        self.wins = 0\n",
    "        self.draws = 0\n",
    "\n",
    "    def win(self):\n",
    "        self.wins += 1\n",
    "        \n",
    "    def draw(self):\n",
    "        self.draws += 1\n",
    "\n",
    "class Points(Soccer):\n",
    "    def leaguePoints(self):\n",
    "        return self.wins * 3 + self.draws\n",
    "    \n",
    "# team2 = Points(\"Team 2\")\n",
    "# team2.win()\n",
    "# team2.draw()\n",
    "# print(team2.leaguePoints())"
   ]
  },
  {
   "cell_type": "markdown",
   "id": "fb7dae7a",
   "metadata": {},
   "source": [
    "# Question 4\n"
   ]
  },
  {
   "cell_type": "code",
   "execution_count": 50,
   "id": "63c5c8ff",
   "metadata": {},
   "outputs": [
    {
     "name": "stdout",
     "output_type": "stream",
     "text": [
      "[36, 164, 48, 12, 296, 60]\n"
     ]
    }
   ],
   "source": [
    "t = [9, 41, 12, 3, 74, 15]\n",
    "t_quadruple = list()\n",
    "\n",
    "for i in range(len(t)):\n",
    "    t_quadruple.append (t[i] * 4)\n",
    "\n",
    "print(t_quadruple)"
   ]
  },
  {
   "cell_type": "markdown",
   "id": "983ad133",
   "metadata": {},
   "source": [
    "# Question 5"
   ]
  },
  {
   "cell_type": "code",
   "execution_count": 62,
   "id": "23713033",
   "metadata": {},
   "outputs": [
    {
     "name": "stdout",
     "output_type": "stream",
     "text": [
      "['Arise', 'But', 'It', 'Juliet', 'Who', 'already', 'and', 'breaks', 'east', 'envious', 'fair', 'grief', 'is', 'kill', 'light', 'moon', 'pale', 'sick', 'soft', 'sun', 'the', 'through', 'what', 'window', 'with', 'yonder']\n"
     ]
    }
   ],
   "source": [
    "data = open(\"a04_file01_q05.txt\")\n",
    "\n",
    "wordList = list()\n",
    "\n",
    "for x in data:\n",
    "    line = x.strip().split()\n",
    "    for word in line:\n",
    "        if word not in wordList:\n",
    "            wordList.append(word)\n",
    "            \n",
    "    wordList = sorted(wordList)\n",
    "        \n",
    "print(wordList)"
   ]
  }
 ],
 "metadata": {
  "kernelspec": {
   "display_name": "Python 3 (ipykernel)",
   "language": "python",
   "name": "python3"
  },
  "language_info": {
   "codemirror_mode": {
    "name": "ipython",
    "version": 3
   },
   "file_extension": ".py",
   "mimetype": "text/x-python",
   "name": "python",
   "nbconvert_exporter": "python",
   "pygments_lexer": "ipython3",
   "version": "3.10.9"
  }
 },
 "nbformat": 4,
 "nbformat_minor": 5
}
