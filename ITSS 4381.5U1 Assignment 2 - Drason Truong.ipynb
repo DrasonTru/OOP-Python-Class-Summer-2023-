{
 "cells": [
  {
   "cell_type": "markdown",
   "id": "d5c8dfcb",
   "metadata": {},
   "source": [
    "# ITSS 4381.5U1 Assignment 2 - Drason Truong"
   ]
  },
  {
   "cell_type": "markdown",
   "id": "1132548e",
   "metadata": {},
   "source": [
    "# Question 1"
   ]
  },
  {
   "cell_type": "code",
   "execution_count": 20,
   "id": "00690443",
   "metadata": {},
   "outputs": [
    {
     "name": "stdout",
     "output_type": "stream",
     "text": [
      "Emergency Stop?: no\n"
     ]
    },
    {
     "data": {
      "text/plain": [
       "'Continue'"
      ]
     },
     "execution_count": 20,
     "metadata": {},
     "output_type": "execute_result"
    }
   ],
   "source": [
    "def emergencyStop(s): # could use while loop to keep asking user for input until correct input is received\n",
    "    if s == 'yes':\n",
    "        return 'Stopping Now'\n",
    "    elif s == 'no':\n",
    "        return 'Continue'\n",
    "    else:\n",
    "        return 'Sorry, type again'\n",
    "\n",
    "var1 = input('Emergency Stop?: ')\n",
    "emergencyStop(var1)"
   ]
  },
  {
   "cell_type": "markdown",
   "id": "bc719ae0",
   "metadata": {},
   "source": [
    "# Question 2"
   ]
  },
  {
   "cell_type": "code",
   "execution_count": 13,
   "id": "cfb4ba55",
   "metadata": {},
   "outputs": [
    {
     "name": "stdout",
     "output_type": "stream",
     "text": [
      "Enter natural number: 9\n",
      "9\n",
      "8\n",
      "7\n",
      "6\n",
      "5\n",
      "4\n",
      "3\n",
      "2\n",
      "1\n"
     ]
    }
   ],
   "source": [
    "def naturalNumbers(n): # can add check to make sure user only enters correct data type\n",
    "    while n > 0:\n",
    "        print(n)\n",
    "        n -= 1\n",
    "        \n",
    "var2 = input('Enter natural number: ')\n",
    "var2 = int(var2)\n",
    "naturalNumbers(var2)"
   ]
  },
  {
   "cell_type": "markdown",
   "id": "fb0026c0",
   "metadata": {},
   "source": [
    "# Question 3"
   ]
  },
  {
   "cell_type": "code",
   "execution_count": 16,
   "id": "02eb9fe8",
   "metadata": {},
   "outputs": [
    {
     "name": "stdout",
     "output_type": "stream",
     "text": [
      "Middle is:  46\n"
     ]
    }
   ],
   "source": [
    "def middle3(x,y,z):\n",
    "    a = [x, y, z]\n",
    "    a.sort()\n",
    "    \n",
    "    for i in a:\n",
    "        if i != min(a) and i != max(a): # does not account for if two of the same number are entered = does not work\n",
    "            print('Middle is: ', i)\n",
    "            \n",
    "middle3(46, 88, 1)"
   ]
  },
  {
   "cell_type": "markdown",
   "id": "06a2c7ca",
   "metadata": {},
   "source": [
    "# Question 4"
   ]
  },
  {
   "cell_type": "code",
   "execution_count": 4,
   "id": "dac8fe83",
   "metadata": {},
   "outputs": [
    {
     "name": "stdout",
     "output_type": "stream",
     "text": [
      "Enter a grade between 0.0 - 1.0: .85\n",
      "Score:  0.85\n",
      "Grade:  B\n"
     ]
    }
   ],
   "source": [
    "def grades_():\n",
    "    userScore = input('Enter a grade between 0.0 - 1.0: ')\n",
    "    userScore = eval(userScore)\n",
    "    \n",
    "    if userScore >= .9 and userScore <= 1.0:\n",
    "        grade = 'A'\n",
    "    elif userScore >= .8 and userScore <= 1.0:\n",
    "        grade = 'B'\n",
    "    elif userScore >= .7 and userScore <= 1.0:\n",
    "        grade = 'C'\n",
    "    elif userScore < .7 and userScore <= 1.0:\n",
    "        grade = 'F'\n",
    "    else:\n",
    "        grade = ' '\n",
    "    print('Score: ', userScore)\n",
    "    print('Grade: ', grade)\n",
    "    \n",
    "    if userScore > 1.0 or userScore < 0.0:\n",
    "        print('Error: Invalid Grade - End of Program')\n",
    "    \n",
    "grades_() # could make this function a continuous loop until users says they are done - instead have to run once per test"
   ]
  },
  {
   "cell_type": "markdown",
   "id": "d92446c1",
   "metadata": {},
   "source": [
    "# Question 5"
   ]
  },
  {
   "cell_type": "code",
   "execution_count": 85,
   "id": "effcfffc",
   "metadata": {},
   "outputs": [
    {
     "data": {
      "text/plain": [
       "(200, 60)"
      ]
     },
     "execution_count": 85,
     "metadata": {},
     "output_type": "execute_result"
    }
   ],
   "source": [
    "def rectangle(width, height):\n",
    "    area = width * height\n",
    "    perimeter = (2 * width) + (2 * height)\n",
    "    \n",
    "    return area, perimeter\n",
    "\n",
    "rectangle(20, 10)"
   ]
  },
  {
   "cell_type": "markdown",
   "id": "65300121",
   "metadata": {},
   "source": [
    "# Question 6"
   ]
  },
  {
   "cell_type": "code",
   "execution_count": 87,
   "id": "e81bb433",
   "metadata": {},
   "outputs": [
    {
     "name": "stdout",
     "output_type": "stream",
     "text": [
      "Enter letters to turn lowercase: ABCDEFGHIJKLMNOPQRSTUVWXYZ\n",
      "abcdefghijklmnopqrstuvwxyz\n"
     ]
    }
   ],
   "source": [
    "str = input('Enter letters to turn lowercase: ')\n",
    "print(str.lower())"
   ]
  },
  {
   "cell_type": "markdown",
   "id": "99199952",
   "metadata": {},
   "source": [
    "# Question 7"
   ]
  },
  {
   "cell_type": "code",
   "execution_count": 11,
   "id": "7921475d",
   "metadata": {},
   "outputs": [
    {
     "name": "stdout",
     "output_type": "stream",
     "text": [
      "Enter natural number: 5\n",
      "15\n",
      "225\n"
     ]
    },
    {
     "data": {
      "text/plain": [
       "225"
      ]
     },
     "execution_count": 11,
     "metadata": {},
     "output_type": "execute_result"
    }
   ],
   "source": [
    "def sumP(p):\n",
    "    p = int(p)\n",
    "    pSum = (p * (p + 1)) // 2 # Looked up this definition online\n",
    "    print(pSum)\n",
    "    return pSum\n",
    "\n",
    "def sumPCubes(p):\n",
    "    p = int(p)\n",
    "    pSumCubes = (p * (p + 1) // 2) ** 2 # found definition online\n",
    "    print(pSumCubes)\n",
    "    return pSumCubes\n",
    "\n",
    "g = input('Enter natural number: ')\n",
    "sumP(g)\n",
    "sumPCubes(g)"
   ]
  }
 ],
 "metadata": {
  "kernelspec": {
   "display_name": "Python 3 (ipykernel)",
   "language": "python",
   "name": "python3"
  },
  "language_info": {
   "codemirror_mode": {
    "name": "ipython",
    "version": 3
   },
   "file_extension": ".py",
   "mimetype": "text/x-python",
   "name": "python",
   "nbconvert_exporter": "python",
   "pygments_lexer": "ipython3",
   "version": "3.10.9"
  }
 },
 "nbformat": 4,
 "nbformat_minor": 5
}
