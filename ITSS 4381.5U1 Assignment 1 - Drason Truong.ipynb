{
 "cells": [
  {
   "cell_type": "markdown",
   "id": "e5070796",
   "metadata": {},
   "source": [
    "# Assignment 1\n",
    "# Drason Truong\n",
    "# ITSS 4381.5U1"
   ]
  },
  {
   "cell_type": "markdown",
   "id": "79e9dcc5",
   "metadata": {},
   "source": [
    "## Question 1"
   ]
  },
  {
   "cell_type": "code",
   "execution_count": 97,
   "id": "69b54984",
   "metadata": {},
   "outputs": [
    {
     "name": "stdout",
     "output_type": "stream",
     "text": [
      "Enter Desired Hours: 60\n",
      "Enter Desired Rate $: 25\n",
      "Gross Pay: $ 1750\n"
     ]
    }
   ],
   "source": [
    "hours = input('Enter Desired Hours: ')\n",
    "hours = eval(hours) # program only works with correct user input\n",
    "\n",
    "rate = input('Enter Desired Rate $: ')\n",
    "rate = eval(rate) \n",
    "\n",
    "if hours <= 50:\n",
    "    pay = hours * rate\n",
    "\n",
    "if hours > 50: \n",
    "    pay = 50 * rate\n",
    "    extrahours = hours - 50\n",
    "    extrapay = extrahours * rate * 2\n",
    "    pay = pay + extrapay\n",
    "    \n",
    "print('Gross Pay: $', pay)"
   ]
  },
  {
   "cell_type": "markdown",
   "id": "1e0c40c8",
   "metadata": {},
   "source": [
    "## Question 2"
   ]
  },
  {
   "cell_type": "code",
   "execution_count": 100,
   "id": "70135344",
   "metadata": {},
   "outputs": [
    {
     "name": "stdout",
     "output_type": "stream",
     "text": [
      "Choose a Score between 0.0 and 1.0: .85\n",
      "Score:  0.85\n",
      "Grade:  B\n"
     ]
    }
   ],
   "source": [
    "userchoice = input('Choose a Score between 0.0 and 1.0: ')\n",
    "userchoice = eval(userchoice) # program only works with correct user input\n",
    "\n",
    "if userchoice >= 0.0 and userchoice <= 1.0:\n",
    "    grade = ' '\n",
    "    if userchoice >= .9 and userchoice <= 1.0:\n",
    "        grade = 'A'\n",
    "    elif userchoice >= .8 and userchoice <= 1.0:\n",
    "        grade = 'B'\n",
    "    elif userchoice>= .7 and userchoice <= 1.0:\n",
    "        grade = 'C'\n",
    "    elif userchoice < .7 and userchoice <= 1.0:\n",
    "        grade = 'F'\n",
    "    print('Score: ', userchoice)\n",
    "    print('Grade: ', grade)\n",
    "    \n",
    "if userchoice > 1.0 or userchoice < 0.0:\n",
    "    print('Error: Invalid Grade - End of Program') # Only runs one test at a time, have to restart for multiple tests"
   ]
  },
  {
   "cell_type": "markdown",
   "id": "a71e40d4",
   "metadata": {},
   "source": [
    "## Question 3"
   ]
  },
  {
   "cell_type": "code",
   "execution_count": 96,
   "id": "e6954933",
   "metadata": {},
   "outputs": [
    {
     "name": "stdout",
     "output_type": "stream",
     "text": [
      "Enter int numbers to find the total sum. Write \"done\" when complete. \n",
      "Enter int num: 9\n",
      "Enter int num: 2\n",
      "Enter int num: bob\n",
      "Invalid: Please type an int number or \"done\" to stop\n",
      "Enter int num: 11\n",
      "Enter int num: 4\n",
      "Enter int num: done\n",
      "\n",
      "Sum:  26 \n",
      "Highest:  11 \n",
      "Lowest:  2\n"
     ]
    }
   ],
   "source": [
    "print('Enter int numbers to find the total sum. Write \"done\" when complete. ')\n",
    "sum = 0\n",
    "lowest = 9999 # only way i could think of instantiating the first number as the lowest\n",
    "highest = 0\n",
    "\n",
    "while True:\n",
    "    num = input('Enter int num: ')\n",
    "    try:\n",
    "        num = eval(num)\n",
    "        sum = sum + num\n",
    "        \n",
    "        if num > highest:\n",
    "            highest = num\n",
    "        \n",
    "        if num < lowest:\n",
    "            lowest = num\n",
    "        \n",
    "    except:\n",
    "        sum += 0\n",
    "        if num != ('done'):\n",
    "            print('Invalid: Please type an int number or \"done\" to stop')\n",
    "        \n",
    "    if num == ('done'):\n",
    "        break\n",
    "        \n",
    "print('\\nSum: ', sum, '\\nHighest: ', highest, '\\nLowest: ', lowest) "
   ]
  },
  {
   "cell_type": "markdown",
   "id": "d4d8b5f2",
   "metadata": {},
   "source": [
    "## Question 4"
   ]
  },
  {
   "cell_type": "code",
   "execution_count": 52,
   "id": "0dab8c84",
   "metadata": {},
   "outputs": [
    {
     "name": "stdout",
     "output_type": "stream",
     "text": [
      "Enter a number: 5\n",
      "5\n",
      "4\n",
      "3\n",
      "2\n",
      "1\n"
     ]
    }
   ],
   "source": [
    "number = input('Enter a number: ')\n",
    "number = eval(number)\n",
    "\n",
    "while number > 0:\n",
    "    print(number)\n",
    "    number -= 1"
   ]
  }
 ],
 "metadata": {
  "kernelspec": {
   "display_name": "Python 3 (ipykernel)",
   "language": "python",
   "name": "python3"
  },
  "language_info": {
   "codemirror_mode": {
    "name": "ipython",
    "version": 3
   },
   "file_extension": ".py",
   "mimetype": "text/x-python",
   "name": "python",
   "nbconvert_exporter": "python",
   "pygments_lexer": "ipython3",
   "version": "3.10.9"
  }
 },
 "nbformat": 4,
 "nbformat_minor": 5
}
