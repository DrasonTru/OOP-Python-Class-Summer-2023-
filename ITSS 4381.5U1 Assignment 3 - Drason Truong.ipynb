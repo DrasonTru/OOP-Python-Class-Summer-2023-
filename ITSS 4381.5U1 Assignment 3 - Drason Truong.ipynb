{
 "cells": [
  {
   "cell_type": "markdown",
   "id": "d1ce1bf6",
   "metadata": {},
   "source": [
    "# Drason Truong 4381.5U1 Assignment 3\n"
   ]
  },
  {
   "cell_type": "markdown",
   "id": "70615b4e",
   "metadata": {},
   "source": [
    "# Question 1"
   ]
  },
  {
   "cell_type": "code",
   "execution_count": 1,
   "id": "284b3313",
   "metadata": {},
   "outputs": [
    {
     "name": "stdout",
     "output_type": "stream",
     "text": [
      "0.8475\n"
     ]
    }
   ],
   "source": [
    "# str = input('Enter String: ')\n",
    "str = 'X-DSPAM-Confidence:0.8475'\n",
    "newStr = str.split(':')\n",
    "\n",
    "flNum = newStr[1]\n",
    "secStr = flNum.replace(\"'\", \"\")\n",
    "\n",
    "float(secStr)\n",
    "print(secStr) # str_for_q01 = 'X-DSPAM-Confidence:0.8475'"
   ]
  },
  {
   "cell_type": "markdown",
   "id": "e0b1ed66",
   "metadata": {},
   "source": [
    "# Question 2"
   ]
  },
  {
   "cell_type": "code",
   "execution_count": 2,
   "id": "f663c9f2",
   "metadata": {},
   "outputs": [
    {
     "name": "stdout",
     "output_type": "stream",
     "text": [
      "['Emily', 'is', 'a', 'data', 'scientist', 'who', 'works', 'atgoogle', 'and', 'previously', 'facebook']\n"
     ]
    }
   ],
   "source": [
    "# str1 = input('Enter String: ')\n",
    "str1 = 'Emily-is-a-data-scientist-who-works-atgoogle-and-previously-facebook'\n",
    "words = list()\n",
    "words = str1.split('-')\n",
    "\n",
    "print(words) # Emily-is-a-data-scientist-who-works-atgoogle-and-previously-facebook"
   ]
  },
  {
   "cell_type": "markdown",
   "id": "eee463b1",
   "metadata": {},
   "source": [
    "# Question 3"
   ]
  },
  {
   "cell_type": "code",
   "execution_count": 3,
   "id": "91bd09e3",
   "metadata": {},
   "outputs": [
    {
     "name": "stdout",
     "output_type": "stream",
     "text": [
      "[51, 1, 15, 199, 25, 50, 19]\n",
      "360\n"
     ]
    }
   ],
   "source": [
    "list1 = [51, 1, 15, 19, 25, 50, 19]\n",
    "found = 1\n",
    "sum = 0\n",
    "\n",
    "for i in range(len(list1)):\n",
    "    if list1[i] == 19 and found == 1: #only first value gets replaced\n",
    "        list1[i] = 199\n",
    "        found -= 1\n",
    "        \n",
    "for c in list1:\n",
    "    sum = sum + c\n",
    "        \n",
    "print(list1)\n",
    "print(sum)"
   ]
  },
  {
   "cell_type": "markdown",
   "id": "ba12b5dc",
   "metadata": {},
   "source": [
    "# Question 4"
   ]
  },
  {
   "cell_type": "code",
   "execution_count": 4,
   "id": "7c554f23",
   "metadata": {},
   "outputs": [
    {
     "name": "stdout",
     "output_type": "stream",
     "text": [
      "[51, 1, 15, 25, 50]\n"
     ]
    }
   ],
   "source": [
    "list2 = [51, 1, 15, 19, 25, 50, 19]\n",
    "desiredNum = 19\n",
    "newList = list()\n",
    "\n",
    "def removeEntry():\n",
    "    for i in range(len(list2)):\n",
    "        if list2[i] != desiredNum:\n",
    "            newList.append(list2[i])\n",
    "            \n",
    "            \n",
    "removeEntry()\n",
    "print(newList)"
   ]
  },
  {
   "cell_type": "markdown",
   "id": "dfbb3799",
   "metadata": {},
   "source": [
    "# Question 5"
   ]
  },
  {
   "cell_type": "code",
   "execution_count": 5,
   "id": "90d74ec4",
   "metadata": {},
   "outputs": [
    {
     "name": "stdout",
     "output_type": "stream",
     "text": [
      "['n', 'b', ['c', ['d', 'e', ['n', 'o', 'g', 'k', 'j'], 'i'], 's'], 'q', 'y']\n"
     ]
    }
   ],
   "source": [
    "mainList = [\"n\", \"b\", [\"c\", [\"d\", \"e\", [\"n\", \"o\"], \"i\"], \"s\"], \"q\", \"y\"]\n",
    "secondList = [\"g\", \"k\", \"j\"]\n",
    "\n",
    "mainList[2][1][2].extend(secondList)\n",
    "print(mainList)"
   ]
  },
  {
   "cell_type": "markdown",
   "id": "9c596e63",
   "metadata": {},
   "source": [
    "# Question 6"
   ]
  },
  {
   "cell_type": "code",
   "execution_count": 6,
   "id": "d86b83ef",
   "metadata": {},
   "outputs": [
    {
     "name": "stdout",
     "output_type": "stream",
     "text": [
      "DBT170001\n"
     ]
    }
   ],
   "source": [
    "# From DBT170001@UTDallas.edu Thu June 15 09:10:11 2023\n",
    "data = open('Truong_a03_q07.txt')\n",
    "\n",
    "for i in data:\n",
    "    words = i.split()\n",
    "    email = words[1]\n",
    "    emailAddress = email.split('@')\n",
    "    emailAddress = emailAddress[0]\n",
    "    \n",
    "print(emailAddress)"
   ]
  }
 ],
 "metadata": {
  "kernelspec": {
   "display_name": "Python 3 (ipykernel)",
   "language": "python",
   "name": "python3"
  },
  "language_info": {
   "codemirror_mode": {
    "name": "ipython",
    "version": 3
   },
   "file_extension": ".py",
   "mimetype": "text/x-python",
   "name": "python",
   "nbconvert_exporter": "python",
   "pygments_lexer": "ipython3",
   "version": "3.10.9"
  }
 },
 "nbformat": 4,
 "nbformat_minor": 5
}
